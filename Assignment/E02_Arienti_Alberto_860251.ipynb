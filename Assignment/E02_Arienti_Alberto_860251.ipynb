{
  "cells": [
    {
      "cell_type": "markdown",
      "metadata": {
        "id": "o52KFEMANwpz"
      },
      "source": [
        "# **Digital Signal and Image Management - E02**<br/>\n",
        "**Master's Degree in Data Science (A.Y. 2024/2025)**<br/>\n",
        "**University of Milano - Bicocca**<br/>\n"
      ]
    },
    {
      "cell_type": "code",
      "execution_count": 1,
      "metadata": {
        "id": "hUKndU89Clzb"
      },
      "outputs": [],
      "source": [
        "import os\n",
        "import numpy as np\n",
        "from time import time\n",
        "from scipy.io import wavfile as wav\n",
        "\n",
        "import matplotlib.pyplot as plt\n",
        "import IPython.display as ipd # Notebook only\n",
        "\n",
        "# Classification tools\n",
        "from sklearn.svm import SVC\n",
        "from sklearn.model_selection import train_test_split, GridSearchCV\n",
        "from sklearn.metrics import classification_report, confusion_matrix\n",
        "\n",
        "# File management\n",
        "from google.colab import drive\n",
        "import tarfile\n",
        "from shutil import copyfile\n",
        "\n",
        "# Frequency analysis\n",
        "from scipy.fft import fft, fftfreq, rfft, rfftfreq\n",
        "from scipy.signal import spectrogram\n",
        "from librosa.feature import melspectrogram, mfcc\n",
        "from librosa.display import specshow"
      ]
    },
    {
      "cell_type": "code",
      "execution_count": 2,
      "metadata": {
        "colab": {
          "base_uri": "https://localhost:8080/"
        },
        "id": "QSWHzPuY6Wmz",
        "outputId": "2d3dffd8-1cea-41f1-a268-5740d23f7a08"
      },
      "outputs": [
        {
          "output_type": "stream",
          "name": "stdout",
          "text": [
            "Drive already mounted at /content/drive; to attempt to forcibly remount, call drive.mount(\"/content/drive\", force_remount=True).\n"
          ]
        }
      ],
      "source": [
        "from google.colab import drive\n",
        "drive.mount('/content/drive')"
      ]
    },
    {
      "cell_type": "code",
      "execution_count": 3,
      "metadata": {
        "id": "NH3UMkSDDE0c"
      },
      "outputs": [],
      "source": [
        "# Link Google Drive account, transfer dataset, and extract files\n",
        "copyfile('/content/drive/MyDrive/Digital Signal and Image Management/recordings.tar', 'recordings.tar')\n",
        "tar = tarfile.open('recordings.tar')\n",
        "tar.extractall()\n",
        "tar.close()"
      ]
    },
    {
      "cell_type": "code",
      "execution_count": 4,
      "metadata": {
        "colab": {
          "base_uri": "https://localhost:8080/",
          "height": 75
        },
        "id": "QsCJiGXxLZDs",
        "outputId": "55e68f00-2c9f-458b-cc24-9da1a74e992c"
      },
      "outputs": [
        {
          "output_type": "execute_result",
          "data": {
            "text/plain": [
              "<IPython.lib.display.Audio object>"
            ],
            "text/html": [
              "\n",
              "                <audio  controls=\"controls\" >\n",
              "                    <source src=\"data:audio/wav;base64,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\" type=\"audio/wav\" />\n",
              "                    Your browser does not support the audio element.\n",
              "                </audio>\n",
              "              "
            ]
          },
          "metadata": {},
          "execution_count": 4
        }
      ],
      "source": [
        "# Import file\n",
        "sound_rate, sound_data = wav.read('recordings/0_jackson_0.wav')\n",
        "# Play the signal\n",
        "ipd.Audio(sound_data, rate=sound_rate)"
      ]
    },
    {
      "cell_type": "code",
      "execution_count": 5,
      "metadata": {
        "colab": {
          "base_uri": "https://localhost:8080/"
        },
        "id": "qfGVj6ng8XSp",
        "outputId": "d3fd5de8-59d1-4522-f5fa-ea59d8edb0ad"
      },
      "outputs": [
        {
          "output_type": "execute_result",
          "data": {
            "text/plain": [
              "(5148,)"
            ]
          },
          "metadata": {},
          "execution_count": 5
        }
      ],
      "source": [
        "# Shape of the audio array: 5148 values, one dimension\n",
        "sound_data.shape"
      ]
    },
    {
      "cell_type": "code",
      "execution_count": 6,
      "metadata": {
        "colab": {
          "base_uri": "https://localhost:8080/"
        },
        "id": "E8wE5h0L8YzB",
        "outputId": "e146f1ce-4a69-4795-e1dd-4a3ed339ac90"
      },
      "outputs": [
        {
          "output_type": "execute_result",
          "data": {
            "text/plain": [
              "8000"
            ]
          },
          "metadata": {},
          "execution_count": 6
        }
      ],
      "source": [
        "# Sampling rate: 8000 samples per second\n",
        "sound_rate"
      ]
    },
    {
      "cell_type": "markdown",
      "metadata": {
        "id": "8dQwt18gSjSr"
      },
      "source": [
        "## Data representation"
      ]
    },
    {
      "cell_type": "markdown",
      "metadata": {
        "id": "urChv9BQSm4b"
      },
      "source": [
        "### Temporal representation"
      ]
    },
    {
      "cell_type": "code",
      "execution_count": 7,
      "metadata": {
        "id": "52MM-lMQ8Byw"
      },
      "outputs": [],
      "source": [
        "# Convert sample index into the corresponding timestamp, for the plot x-axis\n",
        "sound_time = np.arange(sound_data.shape[0])*1.0/sound_rate"
      ]
    },
    {
      "cell_type": "code",
      "execution_count": 8,
      "metadata": {
        "colab": {
          "base_uri": "https://localhost:8080/",
          "height": 472
        },
        "id": "ZrwN62g1NJks",
        "outputId": "25d4a570-c67c-4984-ab26-1abdaa0ecf76"
      },
      "outputs": [
        {
          "output_type": "display_data",
          "data": {
            "text/plain": [
              "<Figure size 640x480 with 1 Axes>"
            ],
            "image/png": "[encoded data removed]"
          },
          "metadata": {}
        }
      ],
      "source": [
        "# Visualizing a signal (temporal representation)\n",
        "plt.plot(sound_time, sound_data);\n",
        "plt.xlabel('Time (s)')\n",
        "plt.ylabel('Amplitude')\n",
        "plt.title('Temporal representation')\n",
        "plt.show()"
      ]
    },
    {
      "cell_type": "markdown",
      "metadata": {
        "id": "JU8aXfPgRfh8"
      },
      "source": [
        "### Frequency representation (Fast Fourier Transform)"
      ]
    },
    {
      "cell_type": "code",
      "execution_count": 9,
      "metadata": {
        "id": "TCdhUIsqRfiM"
      },
      "outputs": [],
      "source": [
        "# Conversion into the frequency domain\n",
        "# fft calculates the Fast Fourier Transform (FFT) of the signal,\n",
        "# converts a signal from the time domain (i.e. a series of samples over time) to the frequency domain\n",
        "# (a representation showing which frequencies are present in the signal and with what intensity)\n",
        "sound_fft = fft(sound_data)\n",
        "sound_freqs = fftfreq(len(sound_data), 1.0/sound_rate)"
      ]
    },
    {
      "cell_type": "code",
      "execution_count": 10,
      "metadata": {
        "colab": {
          "base_uri": "https://localhost:8080/"
        },
        "id": "Opz_44TY8QnI",
        "outputId": "c7dafeb0-01c4-428c-959d-96e975ad49a5"
      },
      "outputs": [
        {
          "output_type": "execute_result",
          "data": {
            "text/plain": [
              "(5148,)"
            ]
          },
          "metadata": {},
          "execution_count": 10
        }
      ],
      "source": [
        "# Shape of the temporal representation\n",
        "sound_data.shape"
      ]
    },
    {
      "cell_type": "code",
      "execution_count": 11,
      "metadata": {
        "colab": {
          "base_uri": "https://localhost:8080/"
        },
        "id": "EzQLp_Ya8SGA",
        "outputId": "27914095-7bee-41e5-cb20-d49882ec3717"
      },
      "outputs": [
        {
          "output_type": "execute_result",
          "data": {
            "text/plain": [
              "(5148,)"
            ]
          },
          "metadata": {},
          "execution_count": 11
        }
      ],
      "source": [
        "# Shape of the frequency representation\n",
        "sound_fft.shape"
      ]
    },
    {
      "cell_type": "code",
      "execution_count": 12,
      "metadata": {
        "colab": {
          "base_uri": "https://localhost:8080/",
          "height": 472
        },
        "id": "vPX_7Cys7vFJ",
        "outputId": "46fb5b66-9b83-41dc-9677-35940ff82759"
      },
      "outputs": [
        {
          "output_type": "display_data",
          "data": {
            "text/plain": [
              "<Figure size 640x480 with 1 Axes>"
            ],
            "image/png": "[encoded data removed]"
          },
          "metadata": {}
        }
      ],
      "source": [
        "# Visualizing a signal (frequency representation)\n",
        "plt.plot(sound_freqs, np.real(sound_fft));\n",
        "plt.xlabel('Frequency (Hz)');\n",
        "plt.ylabel('Amplitude')\n",
        "plt.title('Frequency representation (Fourier)')\n",
        "plt.show()"
      ]
    },
    {
      "cell_type": "code",
      "execution_count": 13,
      "metadata": {
        "id": "EqzLweVjBn87"
      },
      "outputs": [],
      "source": [
        "# Conversion into the frequency domain for real input data\n",
        "# Calculates the Fast Fourier Transform (FFT) for real signals, which is an optimised variant of the FFT for real signals.\n",
        "sound_rfft = rfft(sound_data)\n",
        "sound_rfreqs = rfftfreq(len(sound_data), 1.0/sound_rate)"
      ]
    },
    {
      "cell_type": "code",
      "execution_count": 14,
      "metadata": {
        "colab": {
          "base_uri": "https://localhost:8080/"
        },
        "id": "N-d1AwPJEtRK",
        "outputId": "9aaf5619-b2bb-4a87-cd1a-ca1a7ea4e125"
      },
      "outputs": [
        {
          "output_type": "execute_result",
          "data": {
            "text/plain": [
              "(2575,)"
            ]
          },
          "metadata": {},
          "execution_count": 14
        }
      ],
      "source": [
        "# Shape of the frequency representation\n",
        "sound_rfft.shape"
      ]
    },
    {
      "cell_type": "code",
      "execution_count": 15,
      "metadata": {
        "colab": {
          "base_uri": "https://localhost:8080/",
          "height": 472
        },
        "id": "OoLnRb-dB9vZ",
        "outputId": "d6d411fd-1bd8-4ea0-c090-2b1fae428a3f"
      },
      "outputs": [
        {
          "output_type": "display_data",
          "data": {
            "text/plain": [
              "<Figure size 640x480 with 1 Axes>"
            ],
            "image/png": "[encoded data removed]"
          },
          "metadata": {}
        }
      ],
      "source": [
        "# Visualizing the frequency signal\n",
        "plt.plot(sound_rfreqs, np.real(sound_rfft));\n",
        "plt.xlabel('Frequency (Hz)');\n",
        "plt.ylabel('Amplitude')\n",
        "plt.title('Frequency representation (Fourier)')\n",
        "plt.show()\n",
        "# rttf returns an array containing only the positive part of the frequencies.\n",
        "# avoids calculating the negative part, which does not add any useful information for real signals."
      ]
    },
    {
      "cell_type": "markdown",
      "metadata": {
        "id": "0VX6a4J4Sx_8"
      },
      "source": [
        "### Temporal/Frequency representation (Spectrogram)"
      ]
    },
    {
      "cell_type": "code",
      "execution_count": 16,
      "metadata": {
        "id": "l4sBTrmZHxdn"
      },
      "outputs": [],
      "source": [
        "# Spectrogram computation (with default parameters)\n",
        "[spec_freqs, spec_times, spec] = spectrogram(sound_data, fs=sound_rate)"
      ]
    },
    {
      "cell_type": "code",
      "execution_count": 17,
      "metadata": {
        "colab": {
          "base_uri": "https://localhost:8080/"
        },
        "id": "jR0s-rkMH-5W",
        "outputId": "e922c59a-bcd1-4b4b-9122-79e404f76e70"
      },
      "outputs": [
        {
          "output_type": "execute_result",
          "data": {
            "text/plain": [
              "(129, 22)"
            ]
          },
          "metadata": {},
          "execution_count": 17
        }
      ],
      "source": [
        "# Shape of the output spectrogram\n",
        "spec.shape"
      ]
    },
    {
      "cell_type": "code",
      "execution_count": 19,
      "metadata": {
        "colab": {
          "base_uri": "https://localhost:8080/"
        },
        "id": "-gr3bfZFIIng",
        "outputId": "b9a8551a-0289-4f47-f203-c5b85437fdf7"
      },
      "outputs": [
        {
          "output_type": "execute_result",
          "data": {
            "text/plain": [
              "array([   0.  ,   31.25,   62.5 ,   93.75,  125.  ,  156.25,  187.5 ,\n",
              "        218.75,  250.  ,  281.25,  312.5 ,  343.75,  375.  ,  406.25,\n",
              "        437.5 ,  468.75,  500.  ,  531.25,  562.5 ,  593.75,  625.  ,\n",
              "        656.25,  687.5 ,  718.75,  750.  ,  781.25,  812.5 ,  843.75,\n",
              "        875.  ,  906.25,  937.5 ,  968.75, 1000.  , 1031.25, 1062.5 ,\n",
              "       1093.75, 1125.  , 1156.25, 1187.5 , 1218.75, 1250.  , 1281.25,\n",
              "       1312.5 , 1343.75, 1375.  , 1406.25, 1437.5 , 1468.75, 1500.  ,\n",
              "       1531.25, 1562.5 , 1593.75, 1625.  , 1656.25, 1687.5 , 1718.75,\n",
              "       1750.  , 1781.25, 1812.5 , 1843.75, 1875.  , 1906.25, 1937.5 ,\n",
              "       1968.75, 2000.  , 2031.25, 2062.5 , 2093.75, 2125.  , 2156.25,\n",
              "       2187.5 , 2218.75, 2250.  , 2281.25, 2312.5 , 2343.75, 2375.  ,\n",
              "       2406.25, 2437.5 , 2468.75, 2500.  , 2531.25, 2562.5 , 2593.75,\n",
              "       2625.  , 2656.25, 2687.5 , 2718.75, 2750.  , 2781.25, 2812.5 ,\n",
              "       2843.75, 2875.  , 2906.25, 2937.5 , 2968.75, 3000.  , 3031.25,\n",
              "       3062.5 , 3093.75, 3125.  , 3156.25, 3187.5 , 3218.75, 3250.  ,\n",
              "       3281.25, 3312.5 , 3343.75, 3375.  , 3406.25, 3437.5 , 3468.75,\n",
              "       3500.  , 3531.25, 3562.5 , 3593.75, 3625.  , 3656.25, 3687.5 ,\n",
              "       3718.75, 3750.  , 3781.25, 3812.5 , 3843.75, 3875.  , 3906.25,\n",
              "       3937.5 , 3968.75, 4000.  ])"
            ]
          },
          "metadata": {},
          "execution_count": 19
        }
      ],
      "source": [
        "# Frequency values associated to the 129 rows of `spec`\n",
        "spec_freqs"
      ]
    },
    {
      "cell_type": "code",
      "execution_count": 20,
      "metadata": {
        "colab": {
          "base_uri": "https://localhost:8080/"
        },
        "id": "-Z3NWXNTIPGd",
        "outputId": "26be536d-6893-4e51-ed5c-99cd61146410"
      },
      "outputs": [
        {
          "output_type": "execute_result",
          "data": {
            "text/plain": [
              "array([0.016, 0.044, 0.072, 0.1  , 0.128, 0.156, 0.184, 0.212, 0.24 ,\n",
              "       0.268, 0.296, 0.324, 0.352, 0.38 , 0.408, 0.436, 0.464, 0.492,\n",
              "       0.52 , 0.548, 0.576, 0.604])"
            ]
          },
          "metadata": {},
          "execution_count": 20
        }
      ],
      "source": [
        "# Time values associated to the 22 columns of `spec`\n",
        "spec_times"
      ]
    },
    {
      "cell_type": "code",
      "execution_count": 21,
      "metadata": {
        "colab": {
          "base_uri": "https://localhost:8080/",
          "height": 472
        },
        "id": "JKnoinZJM6PG",
        "outputId": "cb2ca44f-d80b-4ec9-d154-99e12375b0f6"
      },
      "outputs": [
        {
          "output_type": "display_data",
          "data": {
            "text/plain": [
              "<Figure size 640x480 with 2 Axes>"
            ],
            "image/png": "[encoded data removed]"
          },
          "metadata": {}
        }
      ],
      "source": [
        "# Spectrogram visualization\n",
        "plt.imshow(spec, extent=[spec_times[0], spec_times[-1], spec_freqs[0], spec_freqs[-1]], origin='lower', aspect='auto', interpolation='nearest')\n",
        "plt.xlabel('Time slots (s)')\n",
        "plt.ylabel('Frequencies (Hz)')\n",
        "plt.title('Spectrogram')\n",
        "plt.colorbar()\n",
        "plt.show()\n",
        "# The rows of the image correspond to frequencies.\n",
        "# The columns correspond to times.\n",
        "# The colours indicate the energy or power for that frequency and time."
      ]
    },
    {
      "cell_type": "markdown",
      "metadata": {
        "id": "qtVxliaUTjBH"
      },
      "source": [
        "### Temporal/Frequency representation (Mel Spectrogram)"
      ]
    },
    {
      "cell_type": "code",
      "execution_count": 23,
      "metadata": {
        "id": "P96Hqnf9aXo0"
      },
      "outputs": [],
      "source": [
        "# Mel spectrogram computation (with default parameters)\n",
        "# The Mel spectrogram is a transformation of the traditional spectrogram in which frequencies are mapped onto a non-linear scale (Mel scale).\n",
        "mel = melspectrogram(y=sound_data*1.0, sr=sound_rate)"
      ]
    },
    {
      "cell_type": "code",
      "execution_count": 24,
      "metadata": {
        "colab": {
          "base_uri": "https://localhost:8080/"
        },
        "id": "2PgPqNaDbydx",
        "outputId": "dd17f5c1-ae6d-486a-d4db-83d89a3b6c4e"
      },
      "outputs": [
        {
          "output_type": "execute_result",
          "data": {
            "text/plain": [
              "(128, 11)"
            ]
          },
          "metadata": {},
          "execution_count": 24
        }
      ],
      "source": [
        "# Shape of the resulting Mel spectrogram\n",
        "mel.shape"
      ]
    },
    {
      "cell_type": "code",
      "execution_count": 25,
      "metadata": {
        "colab": {
          "base_uri": "https://localhost:8080/",
          "height": 472
        },
        "id": "D0PSz94mb1Sw",
        "outputId": "55337e8e-2102-408a-c1ed-ba661bd631d6"
      },
      "outputs": [
        {
          "output_type": "display_data",
          "data": {
            "text/plain": [
              "<Figure size 640x480 with 2 Axes>"
            ],
            "image/png": "[encoded data removed]"
          },
          "metadata": {}
        }
      ],
      "source": [
        "# Mel spectrogram visualization\n",
        "plt.imshow(mel, extent=[spec_times[0], spec_times[-1], 0, 129], origin='lower', aspect='auto', interpolation='nearest')\n",
        "plt.xlabel('Time slots (s)')\n",
        "plt.ylabel('Frequencies (index)')\n",
        "plt.title('Mel Spectrogram')\n",
        "plt.colorbar()\n",
        "plt.show()"
      ]
    },
    {
      "cell_type": "markdown",
      "metadata": {
        "id": "nzLEgBDQVjvr"
      },
      "source": [
        "**Note:**\n",
        "* The Mel representation accounts for the fact that we (humans) do not perceive frequencies linearly.\n",
        "* A Mel spectrogram is computed by redistributing Hertz frequencies into Mel frequencies using an appropriate matrix multiplication.\n",
        "* The `melspectrogram` function can also be invoked by providing as input a regular spectrogram.\n",
        "* To display the Mel spectrogram with accurate y-axis values, we resort to a built-in librosa function `specshow`."
      ]
    },
    {
      "cell_type": "code",
      "execution_count": 27,
      "metadata": {
        "colab": {
          "base_uri": "https://localhost:8080/",
          "height": 472
        },
        "id": "EQ3BaL89aApA",
        "outputId": "da1a5d05-eedb-4793-cec8-35bc26bc3693"
      },
      "outputs": [
        {
          "output_type": "display_data",
          "data": {
            "text/plain": [
              "<Figure size 640x480 with 2 Axes>"
            ],
            "image/png": "[encoded data removed]"
          },
          "metadata": {}
        }
      ],
      "source": [
        "# Mel spectrogram visualization (with librosa)\n",
        "specshow(mel, x_axis='time', y_axis='mel', sr=sound_rate)\n",
        "plt.xlabel('Time slots (s)')\n",
        "plt.ylabel('Frequencies (Mel)')\n",
        "plt.title('Mel spectrogram')\n",
        "plt.colorbar()\n",
        "plt.show()\n",
        "# The colouring indicates the energy or power of the audio signal at each frequency and time instant."
      ]
    },
    {
      "cell_type": "markdown",
      "metadata": {
        "id": "Spv5tjOXpY92"
      },
      "source": [
        "https://librosa.org/doc/latest/generated/librosa.display.specshow.html"
      ]
    },
    {
      "cell_type": "markdown",
      "metadata": {
        "id": "wkZDooQ8TjaW"
      },
      "source": [
        "### Cepstral representation (MFCC)\n",
        "MFCC: Mel-Frequency Cepstral Coefficients"
      ]
    },
    {
      "cell_type": "code",
      "execution_count": 30,
      "metadata": {
        "id": "G9ippbIwCl0Q"
      },
      "outputs": [],
      "source": [
        "# MFCC computation with default parameters\n",
        "mfccs = mfcc(y=sound_data*1.0, sr=sound_rate)\n",
        "# MFCCs (Mel-Frequency Cepstral Coefficients) are coefficients that represent the spectral characteristics of an audio signal\n",
        "# in a way that is more relevant to human auditory perception."
      ]
    },
    {
      "cell_type": "code",
      "execution_count": 31,
      "metadata": {
        "colab": {
          "base_uri": "https://localhost:8080/"
        },
        "id": "KzACe8KDZ1Rl",
        "outputId": "bc73f5bc-656b-4d35-8dc4-db0db647c35a"
      },
      "outputs": [
        {
          "output_type": "execute_result",
          "data": {
            "text/plain": [
              "(20, 11)"
            ]
          },
          "metadata": {},
          "execution_count": 31
        }
      ],
      "source": [
        "# Shape of the resulting MFCC matrix\n",
        "mfccs.shape"
      ]
    },
    {
      "cell_type": "markdown",
      "metadata": {
        "id": "Cuw-Eu1ICl0T"
      },
      "source": [
        "**Note:**\n",
        "* The MFCC coefficients are based on the Fourier description of a Mel spectrogram (which, in turn, was obtained via Fourier analysis)\n",
        "  * We are **not** applying the inverse Fourier transform, rather applying Fourier twice\n",
        "  * Additional transformations are involved, such as logarithmic scaling.\n",
        "* The result is still a two-dimensional matrix:\n",
        "  * The first dimension size (20) depends on the choice of the frequencies/coefficients.\n",
        "  * The second dimension size (11) depends on the duration of the audio track."
      ]
    },
    {
      "cell_type": "code",
      "execution_count": 32,
      "metadata": {
        "colab": {
          "base_uri": "https://localhost:8080/",
          "height": 472
        },
        "id": "8ddnKuW9a7c6",
        "outputId": "c4952407-a180-4a9e-e959-59be682d491c"
      },
      "outputs": [
        {
          "output_type": "display_data",
          "data": {
            "text/plain": [
              "<Figure size 640x480 with 2 Axes>"
            ],
            "image/png": "[encoded data removed]"
          },
          "metadata": {}
        }
      ],
      "source": [
        "# Visualization via librosa's specshow\n",
        "specshow(mfccs, sr=sound_rate, x_axis='time')\n",
        "plt.xlabel('Time slots (s)')\n",
        "plt.ylabel('Coefficients')\n",
        "plt.title('MFCC')\n",
        "plt.colorbar()\n",
        "plt.show()"
      ]
    },
    {
      "cell_type": "markdown",
      "metadata": {
        "id": "nZehufNJeRXs"
      },
      "source": [
        "**Note:**\n",
        "* You may observe that lower coefficients have a strong dominance over high coefficients.\n",
        "* We can, at least for visualization, normalize each \"row\" (a coefficient) by its own statistics.\n",
        "  * Note that this is different from the normalization that we use in feature extraction for classification, although the concept is similar."
      ]
    },
    {
      "cell_type": "code",
      "execution_count": 39,
      "metadata": {
        "colab": {
          "base_uri": "https://localhost:8080/",
          "height": 472
        },
        "id": "jKRZk24yCl0T",
        "outputId": "c5a8a8f7-2771-4593-cdad-56ad1d1a2ba8"
      },
      "outputs": [
        {
          "output_type": "display_data",
          "data": {
            "text/plain": [
              "<Figure size 640x480 with 2 Axes>"
            ],
            "image/png": "[encoded data removed]"
          },
          "metadata": {}
        }
      ],
      "source": [
        "# Scaled visualization\n",
        "from sklearn.preprocessing import scale\n",
        "mfccs2 = scale(mfccs, axis=1)\n",
        "specshow(mfccs2, sr=sound_rate, x_axis='time')\n",
        "plt.xlabel('Time slots (s)')\n",
        "plt.ylabel('Normalized coefficients')\n",
        "plt.title('MFCC')\n",
        "plt.colorbar()\n",
        "plt.show()\n",
        "# Normalisation allows the various MFCC coefficients to be compared without one dominating the others due to differences in scale."
      ]
    },
    {
      "cell_type": "markdown",
      "metadata": {
        "id": "cdbh-vecMqUz"
      },
      "source": [
        "## Classification"
      ]
    },
    {
      "cell_type": "markdown",
      "metadata": {
        "id": "DPTIVZEbTc0y"
      },
      "source": [
        "### Data loading"
      ]
    },
    {
      "cell_type": "code",
      "execution_count": 34,
      "metadata": {
        "id": "d4k8oRDxClzh"
      },
      "outputs": [],
      "source": [
        "# Placecholder for feature extractor\n",
        "def identity(input):\n",
        "    return input\n",
        "\n",
        "# Data loader\n",
        "def load_data(feature_extractor=identity, normalize=False):\n",
        "\n",
        "    labels = []\n",
        "    features = []\n",
        "\n",
        "    for f in sorted(os.listdir('./recordings')):\n",
        "        if f.endswith('.wav'):\n",
        "            # Load file and compute the requested features\n",
        "            _, signal = wav.read('./recordings/' + f)\n",
        "            cur_features = feature_extractor(signal)\n",
        "            features.append(cur_features)\n",
        "\n",
        "            # Classes\n",
        "            label = f.split('_')[0]\n",
        "            labels.append(label)\n",
        "\n",
        "    # X: features, y: labels\n",
        "    X_train, X_test, y_train, y_test = train_test_split(features, labels, test_size=0.1, random_state=1)\n",
        "\n",
        "    if normalize:\n",
        "        eps = 0.001\n",
        "        X_train = np.array(X_train)\n",
        "        X_train_mean = X_train.mean(axis=0)\n",
        "        X_train_std = X_train.std(axis=0)\n",
        "        X_train = (X_train - X_train_mean + eps)/(X_train_std + eps)\n",
        "        X_train = [row for row in X_train]\n",
        "\n",
        "        X_test = [row for row in (np.array(X_test) - X_train_mean + eps)/(X_train_std + eps)]\n",
        "\n",
        "    return X_train, X_test, y_train, y_test"
      ]
    },
    {
      "cell_type": "markdown",
      "metadata": {
        "id": "CtJsEkWPww5R"
      },
      "source": [
        "### Temporal features"
      ]
    },
    {
      "cell_type": "code",
      "execution_count": 35,
      "metadata": {
        "id": "uOHUUnLAUnbH"
      },
      "outputs": [],
      "source": [
        "def feats_temporal(input, size=1000):\n",
        "    # Remove any values exceeding the given limit\n",
        "    output = input[0:min(size, input.shape[0])]\n",
        "    # Add null values (padding) in order to reach the requested size\n",
        "    output = np.concatenate((output, np.zeros(size-output.shape[0])))\n",
        "    return output"
      ]
    },
    {
      "cell_type": "markdown",
      "metadata": {
        "id": "enlwbaZhkwor"
      },
      "source": [
        "**Note:**\n",
        "* Whatever feature we use, we must make sure that all audios have the same feature length.\n",
        "* This is naturally a problem when it depends on the (variable) duration in seconds.\n",
        "* Here we are arbitrarily truncating all audio tracks to the first 1000 samples, and adding any shorter track with zeros until it reaches 1000 samples.\n",
        "  * By looking at the first example (`sound_data`) we know that an average length for this dataset is more likely around 5000."
      ]
    },
    {
      "cell_type": "code",
      "execution_count": 36,
      "metadata": {
        "id": "7zb9UEOEUnbI"
      },
      "outputs": [],
      "source": [
        "# Data loading\n",
        "X_train, X_test, y_train, y_test = load_data(feature_extractor=feats_temporal, normalize=True)"
      ]
    },
    {
      "cell_type": "code",
      "execution_count": 37,
      "metadata": {
        "colab": {
          "base_uri": "https://localhost:8080/"
        },
        "id": "aBzM9eL7j8jU",
        "outputId": "b639e347-fd65-4da5-d107-47683ca50cf8"
      },
      "outputs": [
        {
          "output_type": "execute_result",
          "data": {
            "text/plain": [
              "(1000,)"
            ]
          },
          "metadata": {},
          "execution_count": 37
        }
      ],
      "source": [
        "# Verify the shape of extracted features\n",
        "X_train[0].shape"
      ]
    },
    {
      "cell_type": "code",
      "execution_count": 38,
      "metadata": {
        "colab": {
          "base_uri": "https://localhost:8080/"
        },
        "id": "jTIAF0PiUnbJ",
        "outputId": "49a78868-cc93-47de-8668-f38446a176a7"
      },
      "outputs": [
        {
          "output_type": "stream",
          "name": "stdout",
          "text": [
            "Training completed in 41.451s\n"
          ]
        }
      ],
      "source": [
        "# Parameters to be tested in cross-validation\n",
        "param_grid = {'C': [100, 500, 1000],\n",
        "          'gamma': [0.005, 0.01, 0.1, 0.5, 1.0], }\n",
        "\n",
        "# Support Vector Machine initialization\n",
        "clf = GridSearchCV(SVC(kernel='rbf', class_weight='balanced'), param_grid, cv=2)\n",
        "\n",
        "# Training\n",
        "t0 = time()\n",
        "clf = clf.fit(X_train, y_train)\n",
        "print('Training completed in %0.3fs' % (time() - t0))"
      ]
    },
    {
      "cell_type": "code",
      "execution_count": 41,
      "metadata": {
        "colab": {
          "base_uri": "https://localhost:8080/"
        },
        "id": "ANsAf2vGUnbJ",
        "outputId": "e125b44f-367d-4272-b753-26903a845d38"
      },
      "outputs": [
        {
          "output_type": "stream",
          "name": "stdout",
          "text": [
            "Best parameters combination:\n",
            " C: 100\n",
            " gamma: 0.005\n"
          ]
        }
      ],
      "source": [
        "# Result of the cross validation for parameters selection\n",
        "print('Best parameters combination:')\n",
        "print(' C: '+str(clf.best_estimator_.C))\n",
        "print(' gamma: '+str(clf.best_estimator_.gamma))"
      ]
    },
    {
      "cell_type": "code",
      "execution_count": 42,
      "metadata": {
        "colab": {
          "base_uri": "https://localhost:8080/"
        },
        "id": "mbHUoT4JUnbK",
        "outputId": "b95b8e75-4db0-4fc8-c60a-610afca328d9"
      },
      "outputs": [
        {
          "output_type": "stream",
          "name": "stdout",
          "text": [
            "              precision    recall  f1-score   support\n",
            "\n",
            "           0       0.50      0.29      0.37        17\n",
            "           1       0.08      0.20      0.11        10\n",
            "           2       0.43      0.40      0.41        15\n",
            "           3       0.11      0.05      0.07        19\n",
            "           4       0.00      0.00      0.00        11\n",
            "           5       0.13      0.43      0.20        14\n",
            "           6       0.35      0.50      0.41        14\n",
            "           7       0.00      0.00      0.00        19\n",
            "           8       0.25      0.06      0.10        17\n",
            "           9       0.33      0.14      0.20        14\n",
            "\n",
            "    accuracy                           0.20       150\n",
            "   macro avg       0.22      0.21      0.19       150\n",
            "weighted avg       0.22      0.20      0.19       150\n",
            "\n"
          ]
        }
      ],
      "source": [
        "# SVM test\n",
        "y_pred = clf.predict(X_test)\n",
        "print(classification_report(y_test, y_pred))"
      ]
    },
    {
      "cell_type": "code",
      "execution_count": 43,
      "metadata": {
        "colab": {
          "base_uri": "https://localhost:8080/",
          "height": 467
        },
        "id": "FP3l-d0PUnbK",
        "outputId": "6db1d5bb-f2b4-4e65-cf54-1c0f90d17af0"
      },
      "outputs": [
        {
          "output_type": "stream",
          "name": "stdout",
          "text": [
            "Confusion matrix:\n"
          ]
        },
        {
          "output_type": "display_data",
          "data": {
            "text/plain": [
              "<Figure size 640x480 with 1 Axes>"
            ],
            "image/png": "[encoded data removed]"
          },
          "metadata": {}
        }
      ],
      "source": [
        "# Confusion matrix\n",
        "print('Confusion matrix:')\n",
        "cm = confusion_matrix(y_test, y_pred)\n",
        "plt.imshow(cm, cmap=plt.cm.Blues);\n",
        "plt.xlabel('Ground truth');\n",
        "plt.ylabel('Prediction');"
      ]
    },
    {
      "cell_type": "markdown",
      "metadata": {
        "id": "0xGvQF3Emlp4"
      },
      "source": [
        "**Note:**\n",
        "* The performance of this \"fake\" feature is suboptimal, although already better than some of the simplest hand-crafted features that we defined in the previous excercises."
      ]
    },
    {
      "cell_type": "markdown",
      "metadata": {
        "id": "m9BoHsonUo97"
      },
      "source": [
        "### Frequency features (Fourier)"
      ]
    },
    {
      "cell_type": "code",
      "execution_count": 44,
      "metadata": {
        "id": "_GNdBlYhUs5x"
      },
      "outputs": [],
      "source": [
        "# The purpose of the feats_fourier function is to apply a Fourier transform to an input signal and then equalise its length,\n",
        "# just as in the case of feats_temporal.\n",
        "def feats_fourier(input, size=1000):\n",
        "    input_ft = np.real(rfft(input))\n",
        "    # Remove any values exceeding the given limit\n",
        "    output = input_ft[0:min(size, input_ft.shape[0])]\n",
        "    # Add null values (padding) in order to reach the requested size\n",
        "    output = np.concatenate((output, np.zeros(size-output.shape[0])))\n",
        "    return output"
      ]
    },
    {
      "cell_type": "markdown",
      "metadata": {
        "id": "sQZfv1FcnY1_"
      },
      "source": [
        "**Note:**\n",
        "* We are fixing the size of this feature to the same arbitary length of 1000, to have a fair comparison.\n",
        "* Note that we crop/pad the vector *after* computing FFT.\n",
        "* Also in this case, it would be more appropriate to study the average length of the data, and select a `size` accordingly."
      ]
    },
    {
      "cell_type": "code",
      "execution_count": 45,
      "metadata": {
        "id": "R8tO_oXFUs5y"
      },
      "outputs": [],
      "source": [
        "# Data loading\n",
        "X_train, X_test, y_train, y_test = load_data(feature_extractor=feats_fourier, normalize=True)"
      ]
    },
    {
      "cell_type": "code",
      "execution_count": 46,
      "metadata": {
        "colab": {
          "base_uri": "https://localhost:8080/"
        },
        "id": "qIQIiOp0kCSM",
        "outputId": "14108388-9720-4ec8-c1ad-c67c883eff99"
      },
      "outputs": [
        {
          "output_type": "execute_result",
          "data": {
            "text/plain": [
              "(1000,)"
            ]
          },
          "metadata": {},
          "execution_count": 46
        }
      ],
      "source": [
        "# Verify the shape of extracted features\n",
        "X_train[0].shape"
      ]
    },
    {
      "cell_type": "code",
      "execution_count": 47,
      "metadata": {
        "colab": {
          "base_uri": "https://localhost:8080/"
        },
        "id": "C67AKJ6hUs5z",
        "outputId": "ea94148e-de61-42c9-c76d-302662f2e5de"
      },
      "outputs": [
        {
          "output_type": "stream",
          "name": "stdout",
          "text": [
            "Training completed in 31.389s\n"
          ]
        }
      ],
      "source": [
        "# Parameters to be tested in cross-validation\n",
        "param_grid = {'C': [100, 500, 1000],\n",
        "          'gamma': [0.005, 0.01, 0.1, 0.5, 1.0], }\n",
        "\n",
        "# Support Vector Machine initialization\n",
        "clf = GridSearchCV(SVC(kernel='rbf', class_weight='balanced'), param_grid, cv=2)\n",
        "\n",
        "# Training\n",
        "t0 = time()\n",
        "clf = clf.fit(X_train, y_train)\n",
        "print('Training completed in %0.3fs' % (time() - t0))"
      ]
    },
    {
      "cell_type": "code",
      "execution_count": 49,
      "metadata": {
        "colab": {
          "base_uri": "https://localhost:8080/"
        },
        "id": "dxoX0zUHUs5z",
        "outputId": "c01775f7-f972-4fa2-ff30-e61226489dab"
      },
      "outputs": [
        {
          "output_type": "stream",
          "name": "stdout",
          "text": [
            "Best parameters combination:\n",
            " C: 100\n",
            " gamma: 0.005\n"
          ]
        }
      ],
      "source": [
        "# Result of the cross validation for parameters selection\n",
        "print('Best parameters combination:')\n",
        "print(' C: '+str(clf.best_estimator_.C))\n",
        "print(' gamma: '+str(clf.best_estimator_.gamma))\n",
        "# Best parameters combination"
      ]
    },
    {
      "cell_type": "code",
      "execution_count": 50,
      "metadata": {
        "colab": {
          "base_uri": "https://localhost:8080/"
        },
        "id": "mV4DnVIcUs50",
        "outputId": "7c861e23-51ef-450b-a2e3-6f66fd37512a"
      },
      "outputs": [
        {
          "output_type": "stream",
          "name": "stdout",
          "text": [
            "              precision    recall  f1-score   support\n",
            "\n",
            "           0       0.12      0.06      0.08        17\n",
            "           1       0.06      0.10      0.07        10\n",
            "           2       0.20      0.13      0.16        15\n",
            "           3       0.21      0.21      0.21        19\n",
            "           4       0.11      0.18      0.13        11\n",
            "           5       0.00      0.00      0.00        14\n",
            "           6       0.33      0.07      0.12        14\n",
            "           7       0.40      0.11      0.17        19\n",
            "           8       0.00      0.00      0.00        17\n",
            "           9       0.13      0.57      0.21        14\n",
            "\n",
            "    accuracy                           0.14       150\n",
            "   macro avg       0.16      0.14      0.12       150\n",
            "weighted avg       0.17      0.14      0.12       150\n",
            "\n"
          ]
        }
      ],
      "source": [
        "# SVM test\n",
        "y_pred = clf.predict(X_test)\n",
        "print(classification_report(y_test, y_pred))\n",
        "# The model will use the spectral information of the signal (obtained via Fourier Transform) to classify the data."
      ]
    },
    {
      "cell_type": "code",
      "execution_count": 51,
      "metadata": {
        "colab": {
          "base_uri": "https://localhost:8080/",
          "height": 467
        },
        "id": "piGDQEE2Us50",
        "outputId": "18c4ba14-a37f-41ba-9da8-d0418be36c02"
      },
      "outputs": [
        {
          "output_type": "stream",
          "name": "stdout",
          "text": [
            "Confusion matrix:\n"
          ]
        },
        {
          "output_type": "display_data",
          "data": {
            "text/plain": [
              "<Figure size 640x480 with 1 Axes>"
            ],
            "image/png": "[encoded data removed]"
          },
          "metadata": {}
        }
      ],
      "source": [
        "# Confusion matrix\n",
        "print('Confusion matrix:')\n",
        "cm = confusion_matrix(y_test, y_pred)\n",
        "plt.imshow(cm, cmap=plt.cm.Blues);\n",
        "plt.xlabel('Prediction');\n",
        "plt.ylabel('Ground truth');"
      ]
    },
    {
      "cell_type": "markdown",
      "metadata": {
        "id": "70xTLi4RoPvD"
      },
      "source": [
        "**Note:**\n",
        "* Truncating the first 1000 elements of a Fourier representation leads to unusable results.\n",
        "* It is possible that this representation offers greater potential by playing with some hyperparameters.\n",
        "* However, we will use it as short-time Fourier transform (a.k.a. spectrogram)"
      ]
    },
    {
      "cell_type": "markdown",
      "metadata": {
        "id": "5Mj-D5IXtXZQ"
      },
      "source": [
        "### Assignment: classification based on 2D features (Spectrogram, MFCC)"
      ]
    },
    {
      "cell_type": "markdown",
      "metadata": {
        "id": "9eO8zsLBvlYP"
      },
      "source": [
        "Approach:\n",
        "1. Extract the 2-dimensional feature\n",
        "2. Force the feature to have fixed size\n",
        "3. Unroll the 2-dimensional feature into a 1-dimensional vector"
      ]
    },
    {
      "cell_type": "markdown",
      "metadata": {
        "id": "2q6bRbLJthl-"
      },
      "source": [
        "**Hint:**\n",
        "* For a given feature (e.g. Spectrogram) we still want to fix the feature length, independent of the initial audio track.\n",
        "* Since now we have two dimensions (rows = frequencies, and cols = time blocks), we have to think about both.\n",
        "  * The rows will be fixed by default, assuming fixed parameters for the spectrogram extraction.\n",
        "  * The columns will change, based on the duration of the input track.\n",
        "* Fixing the feature size *after* unrolling to 1 dimension would be easier, but it is conceptually wrong:\n",
        "  * Unrolling two matrices with different columns would distribute the same frequencies in different positions in the vector.\n",
        "  * This would make the classifier unable to reliably \"look\" for a specific sub-feature in a specific position."
      ]
    },
    {
      "cell_type": "markdown",
      "metadata": {
        "id": "3KhKXdRYUtqS"
      },
      "source": [
        "### Temporal/Frequency features (spectrogram)"
      ]
    },
    {
      "cell_type": "markdown",
      "source": [
        "The function extracts spectrogram features from an audio signal and converts them into a feature vector of fixed size.\n",
        "Using scipy.signal.spectrogram:\n",
        "\n",
        "1.   spec_freqs: array of frequencies present in the signal.\n",
        "2.   spec_times: array of time bins.\n",
        "3.   spec: array spectrogram (intensity of frequencies over time).\n",
        "\n",
        "Maintains only the first tsize time columns (if present). If the number of columns is less than tsize, it performs padding with zeros. The function (flatten()) to transform the result into a 1D vector."
      ],
      "metadata": {
        "id": "OMrOZVfLccoz"
      }
    },
    {
      "cell_type": "code",
      "execution_count": 52,
      "metadata": {
        "id": "FY0TSowOs5B_"
      },
      "outputs": [],
      "source": [
        "def feats_spectrogram(input, rate=8000, tsize=10):\n",
        "    [spec_freqs, spec_times, spec] = spectrogram(input, fs=rate)\n",
        "    n_freqs = 128  #  Set the number of frequencies to be maintained\n",
        "    n_times = tsize  # Set the desired number of time columns\n",
        "\n",
        "    spec = spec[:, :tsize]  # Keep only the first `n_times` columns\n",
        "\n",
        "    #Pad the spectrogram with zeros if there are fewer than `n_times` time bins\n",
        "    if spec.shape[1] < tsize:\n",
        "        pad_width = tsize - spec.shape[1]\n",
        "        spec = np.pad(spec, ((0, 0), (0, pad_width)), 'constant')\n",
        "\n",
        "    # Flatten the spectrogram to a 1D vector\n",
        "    output = spec.flatten()\n",
        "    return output"
      ]
    },
    {
      "cell_type": "markdown",
      "metadata": {
        "id": "hRfxwqXPit2J"
      },
      "source": [
        "**Note:**\n",
        "* Let's use `tsize` as a parameter to control the *temporal* size, i.e. the number of columns in our 2D representation\n",
        "  * This is similar to paramter `size` in the previous 1D features"
      ]
    },
    {
      "cell_type": "code",
      "execution_count": 56,
      "metadata": {
        "id": "cUe7aql4UyJt"
      },
      "outputs": [],
      "source": [
        "# Data loading\n",
        "X_train, X_test, y_train, y_test = load_data(feature_extractor=feats_spectrogram, normalize=True)"
      ]
    },
    {
      "cell_type": "code",
      "execution_count": 57,
      "metadata": {
        "colab": {
          "base_uri": "https://localhost:8080/"
        },
        "id": "ojShh2I4pbTe",
        "outputId": "7d299469-cf9c-4f13-f5d6-d843400d3fd6"
      },
      "outputs": [
        {
          "output_type": "execute_result",
          "data": {
            "text/plain": [
              "(1290,)"
            ]
          },
          "metadata": {},
          "execution_count": 57
        }
      ],
      "source": [
        "# Verify the shape of extracted features\n",
        "X_train[0].shape"
      ]
    },
    {
      "cell_type": "code",
      "execution_count": 58,
      "metadata": {
        "colab": {
          "base_uri": "https://localhost:8080/"
        },
        "id": "2dGEyB9OUyJu",
        "outputId": "96d58b75-c53a-4a89-d0ce-1eb2008406c2"
      },
      "outputs": [
        {
          "output_type": "stream",
          "name": "stdout",
          "text": [
            "Training completed in 32.996s\n"
          ]
        }
      ],
      "source": [
        "# Parameters to be tested in cross-validation\n",
        "param_grid = {'C': [100, 500, 1000],\n",
        "          'gamma': [0.005, 0.01, 0.1, 0.5, 1.0], }\n",
        "\n",
        "# Support Vector Machine initialization\n",
        "clf = GridSearchCV(SVC(kernel='rbf', class_weight='balanced'), param_grid, cv=2)\n",
        "\n",
        "# Training\n",
        "t0 = time()\n",
        "clf = clf.fit(X_train, y_train)\n",
        "print('Training completed in %0.3fs' % (time() - t0))"
      ]
    },
    {
      "cell_type": "code",
      "execution_count": 59,
      "metadata": {
        "colab": {
          "base_uri": "https://localhost:8080/"
        },
        "id": "2VNL2kULUyJu",
        "outputId": "a97e3572-68e0-492a-c6fb-bdbd6176200b"
      },
      "outputs": [
        {
          "output_type": "stream",
          "name": "stdout",
          "text": [
            "Best parameters combination:\n",
            " C: 1000\n",
            " gamma: 0.005\n"
          ]
        }
      ],
      "source": [
        "# Result of the cross validation for parameters selection\n",
        "print('Best parameters combination:')\n",
        "print(' C: '+str(clf.best_estimator_.C))\n",
        "print(' gamma: '+str(clf.best_estimator_.gamma))"
      ]
    },
    {
      "cell_type": "code",
      "execution_count": 60,
      "metadata": {
        "colab": {
          "base_uri": "https://localhost:8080/"
        },
        "id": "fKWAsu53UyJv",
        "outputId": "1f2d3e09-8427-473c-d5be-23f33fb7fda5"
      },
      "outputs": [
        {
          "output_type": "stream",
          "name": "stdout",
          "text": [
            "              precision    recall  f1-score   support\n",
            "\n",
            "           0       0.83      0.59      0.69        17\n",
            "           1       0.58      0.70      0.64        10\n",
            "           2       0.77      0.67      0.71        15\n",
            "           3       0.65      0.58      0.61        19\n",
            "           4       0.30      0.27      0.29        11\n",
            "           5       0.75      0.64      0.69        14\n",
            "           6       0.18      0.64      0.28        14\n",
            "           7       0.67      0.32      0.43        19\n",
            "           8       0.80      0.24      0.36        17\n",
            "           9       0.67      0.43      0.52        14\n",
            "\n",
            "    accuracy                           0.50       150\n",
            "   macro avg       0.62      0.51      0.52       150\n",
            "weighted avg       0.64      0.50      0.53       150\n",
            "\n"
          ]
        }
      ],
      "source": [
        "# SVM test\n",
        "y_pred = clf.predict(X_test)\n",
        "print(classification_report(y_test, y_pred))"
      ]
    },
    {
      "cell_type": "code",
      "execution_count": 61,
      "metadata": {
        "colab": {
          "base_uri": "https://localhost:8080/",
          "height": 467
        },
        "id": "5pIrh1nBUyJv",
        "outputId": "8c18dc6b-93ee-4f33-9b61-c531ee5c008e"
      },
      "outputs": [
        {
          "output_type": "stream",
          "name": "stdout",
          "text": [
            "Confusion matrix:\n"
          ]
        },
        {
          "output_type": "display_data",
          "data": {
            "text/plain": [
              "<Figure size 640x480 with 1 Axes>"
            ],
            "image/png": "[encoded data removed]"
          },
          "metadata": {}
        }
      ],
      "source": [
        "# Confusion matrix\n",
        "print('Confusion matrix:')\n",
        "cm = confusion_matrix(y_test, y_pred)\n",
        "plt.imshow(cm, cmap=plt.cm.Blues);\n",
        "plt.xlabel('Prediction');\n",
        "plt.ylabel('Ground truth');"
      ]
    },
    {
      "cell_type": "markdown",
      "source": [
        "We can see that compared to before, the confusion matrix is better, accuracy of 0.5 confirms this, the classifications made by the model are not most on label 9 as before. The diagonal is marked and the greatest difficulties are on label 6."
      ],
      "metadata": {
        "id": "I1UmGOKOdWpV"
      }
    },
    {
      "cell_type": "markdown",
      "metadata": {
        "id": "IDRUW6JkCl0V"
      },
      "source": [
        "### Cepstral features (MFCC)"
      ]
    },
    {
      "cell_type": "code",
      "execution_count": 62,
      "metadata": {
        "id": "aZd7Di3vxDo4"
      },
      "outputs": [],
      "source": [
        "def feats_mfcc(input, rate=8000, tsize=10):\n",
        "    num_mfcc = 20  # Set the desired number of MFCC coefficients\n",
        "    mfccs = mfcc(y=input*1.0, sr=rate, n_mfcc=num_mfcc, n_fft=1024)\n",
        "\n",
        "    #trim or pad the MFCCs to have tsize time slots\n",
        "    mfccs = mfccs[:, :tsize]\n",
        "    if mfccs.shape[1] < tsize:\n",
        "        pad_width = tsize - mfccs.shape[1]\n",
        "        mfccs = np.pad(mfccs, ((0, 0), (0, pad_width)), 'constant')\n",
        "\n",
        "    # Unroll into 1D vector:\n",
        "    output = mfccs.flatten()\n",
        "    return output"
      ]
    },
    {
      "cell_type": "code",
      "execution_count": 63,
      "metadata": {
        "id": "qm_foVFUEFly"
      },
      "outputs": [],
      "source": [
        "# Data loading\n",
        "# Extract the mfcc feature from the data and categorise the test set.\n",
        "X_train, X_test, y_train, y_test = load_data(feature_extractor=feats_mfcc, normalize=True)"
      ]
    },
    {
      "cell_type": "code",
      "execution_count": 64,
      "metadata": {
        "colab": {
          "base_uri": "https://localhost:8080/"
        },
        "id": "utVV9pCzx4cz",
        "outputId": "c4a1a05a-c5ea-41d9-878f-4d9909bca115"
      },
      "outputs": [
        {
          "output_type": "execute_result",
          "data": {
            "text/plain": [
              "(200,)"
            ]
          },
          "metadata": {},
          "execution_count": 64
        }
      ],
      "source": [
        "# Verify the shape of extracted features\n",
        "X_train[0].shape"
      ]
    },
    {
      "cell_type": "code",
      "execution_count": 65,
      "metadata": {
        "colab": {
          "base_uri": "https://localhost:8080/"
        },
        "id": "Z6z8ZK3GEFlz",
        "outputId": "b3aa6082-a8dd-483b-e9d1-6dc05f72da9b"
      },
      "outputs": [
        {
          "output_type": "stream",
          "name": "stdout",
          "text": [
            "Training completed in 17.485s\n"
          ]
        }
      ],
      "source": [
        "# Parameters to be tested in cross-validation\n",
        "param_grid = {'C': [100, 500, 1000],\n",
        "          'gamma': [0.005, 0.01, 0.1, 0.5, 1.0], }\n",
        "\n",
        "# Support Vector Machine initialization\n",
        "clf = GridSearchCV(SVC(kernel='rbf', class_weight='balanced'), param_grid, cv=2)\n",
        "\n",
        "# Training\n",
        "t0 = time()\n",
        "clf = clf.fit(X_train, y_train)\n",
        "print('Training completed in %0.3fs' % (time() - t0))"
      ]
    },
    {
      "cell_type": "code",
      "execution_count": 66,
      "metadata": {
        "colab": {
          "base_uri": "https://localhost:8080/"
        },
        "id": "rZp7yvBDEFl0",
        "outputId": "48d74ee8-1551-41dd-828c-aa41da5a9e34"
      },
      "outputs": [
        {
          "output_type": "stream",
          "name": "stdout",
          "text": [
            "Best parameters combination:\n",
            " C: 100\n",
            " gamma: 0.005\n"
          ]
        }
      ],
      "source": [
        "# Result of the cross validation for parameters selection\n",
        "print('Best parameters combination:')\n",
        "print(' C: '+str(clf.best_estimator_.C))\n",
        "print(' gamma: '+str(clf.best_estimator_.gamma))"
      ]
    },
    {
      "cell_type": "code",
      "execution_count": 67,
      "metadata": {
        "colab": {
          "base_uri": "https://localhost:8080/"
        },
        "id": "p74YGGy2EFl0",
        "outputId": "d8cbf150-68f5-4786-cd76-e819f69bcbb9"
      },
      "outputs": [
        {
          "output_type": "stream",
          "name": "stdout",
          "text": [
            "              precision    recall  f1-score   support\n",
            "\n",
            "           0       1.00      1.00      1.00        17\n",
            "           1       1.00      1.00      1.00        10\n",
            "           2       1.00      1.00      1.00        15\n",
            "           3       0.95      1.00      0.97        19\n",
            "           4       1.00      1.00      1.00        11\n",
            "           5       1.00      1.00      1.00        14\n",
            "           6       1.00      0.93      0.96        14\n",
            "           7       1.00      0.95      0.97        19\n",
            "           8       1.00      1.00      1.00        17\n",
            "           9       0.93      1.00      0.97        14\n",
            "\n",
            "    accuracy                           0.99       150\n",
            "   macro avg       0.99      0.99      0.99       150\n",
            "weighted avg       0.99      0.99      0.99       150\n",
            "\n"
          ]
        }
      ],
      "source": [
        "# SVM test\n",
        "y_pred = clf.predict(X_test)\n",
        "print(classification_report(y_test, y_pred))"
      ]
    },
    {
      "cell_type": "code",
      "execution_count": 68,
      "metadata": {
        "colab": {
          "base_uri": "https://localhost:8080/",
          "height": 467
        },
        "id": "VtRiyLbXpZ9l",
        "outputId": "b0c900dc-1510-4979-a473-e6851e7e71fb"
      },
      "outputs": [
        {
          "output_type": "stream",
          "name": "stdout",
          "text": [
            "Confusion matrix:\n"
          ]
        },
        {
          "output_type": "display_data",
          "data": {
            "text/plain": [
              "<Figure size 640x480 with 1 Axes>"
            ],
            "image/png": "[encoded data removed]"
          },
          "metadata": {}
        }
      ],
      "source": [
        "# Confusion matrix\n",
        "print('Confusion matrix:')\n",
        "cm = confusion_matrix(y_test, y_pred)\n",
        "plt.imshow(cm, cmap=plt.cm.Blues);\n",
        "plt.xlabel('Ground truth');\n",
        "plt.ylabel('Prediction');"
      ]
    },
    {
      "cell_type": "markdown",
      "metadata": {
        "id": "YDv-156FxMLU"
      },
      "source": [
        "**Note:**\n",
        "* For the specific (default) parameters that we adopted in this excercise, MFCC works better than all other features.\n",
        "* However, note that better performance could be obtained also for the other features, with fine tuned parameters.\n",
        "  * The optimization of such parameters is not requested for the assignment."
      ]
    },
    {
      "cell_type": "markdown",
      "metadata": {
        "id": "h8HkBYt1WvwS"
      },
      "source": [
        "## Assignment recap"
      ]
    },
    {
      "cell_type": "code",
      "execution_count": 69,
      "metadata": {
        "id": "RzCMIm-zW7Mp"
      },
      "outputs": [],
      "source": [
        "def feats_spectrogram(input, rate=8000, tsize=10):\n",
        "    [spec_freqs, spec_times, spec] = spectrogram(input, fs=rate)\n",
        "    n_freqs = 128  #  Set the number of frequencies to be maintained\n",
        "    n_times = tsize  # Set the desired number of time columns\n",
        "\n",
        "    spec = spec[:, :tsize]  # Keep only the first `n_times` columns\n",
        "\n",
        "    #Pad the spectrogram with zeros if there are fewer than `n_times` time bins\n",
        "    if spec.shape[1] < tsize:\n",
        "        pad_width = tsize - spec.shape[1]\n",
        "        spec = np.pad(spec, ((0, 0), (0, pad_width)), 'constant')\n",
        "\n",
        "    # Flatten the spectrogram to a 1D vector\n",
        "    output = spec.flatten()\n",
        "    return output"
      ]
    },
    {
      "cell_type": "code",
      "execution_count": 70,
      "metadata": {
        "id": "FZW9uNWLcRfZ"
      },
      "outputs": [],
      "source": [
        "def feats_mfcc(input, rate=8000, tsize=10):\n",
        "    num_mfcc = 20  # Set the desired number of MFCC coefficients\n",
        "    mfccs = mfcc(y=input*1.0, sr=rate, n_mfcc=num_mfcc, n_fft=1024)\n",
        "\n",
        "    #trim or pad the MFCCs to have tsize time slots\n",
        "    mfccs = mfccs[:, :tsize]\n",
        "    if mfccs.shape[1] < tsize:\n",
        "        pad_width = tsize - mfccs.shape[1]\n",
        "        mfccs = np.pad(mfccs, ((0, 0), (0, pad_width)), 'constant')\n",
        "\n",
        "    # Unroll into 1D vector:\n",
        "    output = mfccs.flatten()\n",
        "    return output"
      ]
    }
  ],
  "metadata": {
    "colab": {
      "provenance": []
    },
    "kernelspec": {
      "display_name": "Python 3",
      "language": "python",
      "name": "python3"
    },
    "language_info": {
      "codemirror_mode": {
        "name": "ipython",
        "version": 3
      },
      "file_extension": ".py",
      "mimetype": "text/x-python",
      "name": "python",
      "nbconvert_exporter": "python",
      "pygments_lexer": "ipython3",
      "version": "3.7.4"
    }
  },
  "nbformat": 4,
  "nbformat_minor": 0
}