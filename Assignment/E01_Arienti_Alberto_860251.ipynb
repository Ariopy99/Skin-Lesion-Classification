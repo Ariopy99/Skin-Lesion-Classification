{
  "nbformat": 4,
  "nbformat_minor": 0,
  "metadata": {
    "kernelspec": {
      "display_name": "Python 3",
      "language": "python",
      "name": "python3"
    },
    "language_info": {
      "codemirror_mode": {
        "name": "ipython",
        "version": 3
      },
      "file_extension": ".py",
      "mimetype": "text/x-python",
      "name": "python",
      "nbconvert_exporter": "python",
      "pygments_lexer": "ipython3",
      "version": "3.7.4"
    },
    "colab": {
      "provenance": []
    }
  },
  "cells": [
    {
      "cell_type": "markdown",
      "metadata": {
        "id": "_WWoFTXGC2LQ"
      },
      "source": [
        "# **Digital Signal and Image Management - E01**<br/>\n",
        "**Master's Degree in Data Science (A.Y. 2024/2025)**<br/>\n",
        "**University of Milano - Bicocca**<br/>\n",
        "\n"
      ]
    },
    {
      "cell_type": "code",
      "metadata": {
        "id": "hUKndU89Clzb"
      },
      "source": [
        "import os\n",
        "import numpy as np\n",
        "from time import time\n",
        "from scipy.io import wavfile as wav\n",
        "\n",
        "import matplotlib.pyplot as plt\n",
        "import IPython.display as ipd\n",
        "\n",
        "# Classification tools\n",
        "from sklearn.svm import SVC\n",
        "from sklearn.model_selection import train_test_split, GridSearchCV\n",
        "from sklearn.metrics import classification_report, confusion_matrix\n",
        "\n",
        "# File management\n",
        "from google.colab import drive\n",
        "import tarfile\n",
        "from shutil import copyfile"
      ],
      "execution_count": null,
      "outputs": []
    },
    {
      "cell_type": "markdown",
      "metadata": {
        "id": "JXCWWOy7C8e7"
      },
      "source": [
        "## Data import"
      ]
    },
    {
      "cell_type": "code",
      "metadata": {
        "id": "NH3UMkSDDE0c",
        "colab": {
          "base_uri": "https://localhost:8080/"
        },
        "outputId": "286cdd6d-7669-4593-91dc-83a7e2e05de2"
      },
      "source": [
        "# Link Google Drive account, transfer dataset, and extract files\n",
        "drive.mount('/content/gdrive')\n",
        "copyfile('/content/gdrive/MyDrive/Digital Signal and Image Management/recordings.tar', 'recordings.tar')\n",
        "tar = tarfile.open('recordings.tar')\n",
        "tar.extractall()\n",
        "tar.close()"
      ],
      "execution_count": null,
      "outputs": [
        {
          "output_type": "stream",
          "name": "stdout",
          "text": [
            "Mounted at /content/gdrive\n"
          ]
        }
      ]
    },
    {
      "cell_type": "code",
      "source": [
        "# Import file\n",
        "sound_rate, sound_data = wav.read('recordings/0_jackson_0.wav') # Extracts the data from the audio file,\n",
        "# transforming it into a numerical array (sound_data) and also returning the sampling frequency (sound_rate)\n",
        "# Play the signal\n",
        "ipd.Audio(sound_data, rate=sound_rate) # To play audio directly inside a notebook"
      ],
      "metadata": {
        "colab": {
          "base_uri": "https://localhost:8080/",
          "height": 75
        },
        "id": "N8Ds2mw4UNrX",
        "outputId": "1da8160b-acfe-4d5f-faf6-bdb2cb02cfd1"
      },
      "execution_count": null,
      "outputs": [
        {
          "output_type": "execute_result",
          "data": {
            "text/plain": [
              "<IPython.lib.display.Audio object>"
            ],
            "text/html": [
              "\n",
              "                <audio  controls=\"controls\" >\n",
              "                    <source src=\"data:audio/wav;base64,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\" type=\"audio/wav\" />\n",
              "                    Your browser does not support the audio element.\n",
              "                </audio>\n",
              "              "
            ]
          },
          "metadata": {},
          "execution_count": 4
        }
      ]
    },
    {
      "cell_type": "markdown",
      "metadata": {
        "id": "6bFpB0qVClzf"
      },
      "source": [
        "## Data loader"
      ]
    },
    {
      "cell_type": "code",
      "metadata": {
        "id": "d4k8oRDxClzh"
      },
      "source": [
        "# Placecholder for feature extractor\n",
        "def identity(input):\n",
        "    return input\n",
        "\n",
        "# Data loader\n",
        "# function that loads the audio files, extracts the features and divides the data into training and test sets.\n",
        "def load_data(feature_extractor=identity, normalize=False):\n",
        "\n",
        "    labels = []\n",
        "    features = []\n",
        "\n",
        "    for f in sorted(os.listdir('./recordings')):\n",
        "        if f.endswith('.wav'):\n",
        "            # Load file and compute the requested features\n",
        "            _, signal = wav.read('./recordings/' + f)\n",
        "            cur_features = feature_extractor(signal)\n",
        "            features.append(cur_features)\n",
        "\n",
        "            # Classes\n",
        "            label = f.split('_')[0]\n",
        "            labels.append(label)\n",
        "\n",
        "    # X: features, y: labels\n",
        "    X_train, X_test, y_train, y_test = train_test_split(features, labels, test_size=0.1, random_state=1) # 90% training, 10% test\n",
        "\n",
        "    if normalize:\n",
        "        eps = 0.001\n",
        "        X_train = np.array(X_train)\n",
        "        X_train_mean = X_train.mean(axis=0)\n",
        "        X_train_std = X_train.std(axis=0)\n",
        "        X_train = (X_train - X_train_mean + eps)/(X_train_std + eps)\n",
        "        X_train = [row for row in X_train]\n",
        "\n",
        "        X_test = [row for row in (np.array(X_test) - X_train_mean + eps)/(X_train_std + eps)]\n",
        "\n",
        "    return X_train, X_test, y_train, y_test"
      ],
      "execution_count": null,
      "outputs": []
    },
    {
      "cell_type": "markdown",
      "metadata": {
        "id": "QxNLso1oClzj"
      },
      "source": [
        "## Features"
      ]
    },
    {
      "cell_type": "code",
      "metadata": {
        "id": "XUf-utRuClzr"
      },
      "source": [
        "# Create sample data and corresponding feature\n",
        "dummy_data = np.random.rand(100) # Generates arrays of 100 random values between 0 and 1\n",
        "feats_scalar = np.std(dummy_data) # Std without array\n",
        "feats_vector = np.std(dummy_data, keepdims=True) # Std with array"
      ],
      "execution_count": null,
      "outputs": []
    },
    {
      "cell_type": "code",
      "metadata": {
        "id": "Fm1awcReClzt",
        "outputId": "6904cd17-8b87-4d2b-b211-badbb8a82341",
        "colab": {
          "base_uri": "https://localhost:8080/"
        }
      },
      "source": [
        "# Scalar feature\n",
        "print(feats_scalar)\n",
        "print(feats_scalar.shape)"
      ],
      "execution_count": null,
      "outputs": [
        {
          "output_type": "stream",
          "name": "stdout",
          "text": [
            "0.2772600832062646\n",
            "()\n"
          ]
        }
      ]
    },
    {
      "cell_type": "code",
      "metadata": {
        "id": "qe2PbKABClzw",
        "outputId": "c3fe7253-2a2b-4efb-97ba-0ba789aab092",
        "colab": {
          "base_uri": "https://localhost:8080/"
        }
      },
      "source": [
        "# Vector feature\n",
        "print(feats_vector)\n",
        "print(feats_vector.shape)"
      ],
      "execution_count": null,
      "outputs": [
        {
          "output_type": "stream",
          "name": "stdout",
          "text": [
            "[0.27726008]\n",
            "(1,)\n"
          ]
        }
      ]
    },
    {
      "cell_type": "markdown",
      "source": [
        "### Energy"
      ],
      "metadata": {
        "id": "U6jQ71N-Aogq"
      }
    },
    {
      "cell_type": "markdown",
      "source": [
        "$\n",
        "E(x) = \\sum_i x_i^2\n",
        "$"
      ],
      "metadata": {
        "id": "mBl1a4HqZpD2"
      }
    },
    {
      "cell_type": "code",
      "metadata": {
        "id": "yaXOQxkaClz3"
      },
      "source": [
        "# Function that calculates the energy of a signal\n",
        "def energy(input):\n",
        "    return np.sum((input*1.0)**2, keepdims=True)"
      ],
      "execution_count": null,
      "outputs": []
    },
    {
      "cell_type": "code",
      "metadata": {
        "id": "TI9aMqcMAogr",
        "colab": {
          "base_uri": "https://localhost:8080/"
        },
        "outputId": "b1fa52b1-5f3e-4c65-8669-b199ca98d41c"
      },
      "source": [
        "# Data loading and extracting energy characteristics\n",
        "X_train, X_test, y_train, y_test = load_data(feature_extractor=energy)\n",
        "print('Numer of training examples: {}'.format(len(X_train)))\n",
        "print('Dimensionality of the training features: {}'.format(X_train[0].shape))"
      ],
      "execution_count": null,
      "outputs": [
        {
          "output_type": "stream",
          "name": "stdout",
          "text": [
            "Numer of training examples: 1350\n",
            "Dimensionality of the training features: (1,)\n"
          ]
        }
      ]
    },
    {
      "cell_type": "code",
      "metadata": {
        "id": "TRSVYY11Aogs"
      },
      "source": [
        "# Support Vector Machine (SVM) initialization\n",
        "clf = SVC(kernel='rbf', class_weight='balanced')"
      ],
      "execution_count": null,
      "outputs": []
    },
    {
      "cell_type": "code",
      "source": [
        "# SVM training\n",
        "# Trained the SVM classifier on the training set using signal energy as characteristics\n",
        "clf = clf.fit(X_train, y_train)"
      ],
      "metadata": {
        "id": "Gb-sfgkdah2d"
      },
      "execution_count": null,
      "outputs": []
    },
    {
      "cell_type": "code",
      "metadata": {
        "id": "Os5tP0k9Aogs"
      },
      "source": [
        "# SVM inference\n",
        "# After training the model, use the test set to make predictions.\n",
        "y_pred = clf.predict(X_test)"
      ],
      "execution_count": null,
      "outputs": []
    },
    {
      "cell_type": "code",
      "metadata": {
        "colab": {
          "base_uri": "https://localhost:8080/"
        },
        "outputId": "90ea6862-12f3-4a03-a632-2816023e8953",
        "id": "FyFu3UbtAogt"
      },
      "source": [
        "# Classification report\n",
        "print('Classification report:')\n",
        "print(classification_report(y_test, y_pred))"
      ],
      "execution_count": null,
      "outputs": [
        {
          "output_type": "stream",
          "name": "stdout",
          "text": [
            "Classification report:\n",
            "              precision    recall  f1-score   support\n",
            "\n",
            "           0       0.50      0.06      0.11        17\n",
            "           1       0.00      0.00      0.00        10\n",
            "           2       0.00      0.00      0.00        15\n",
            "           3       0.17      0.58      0.26        19\n",
            "           4       0.12      0.27      0.17        11\n",
            "           5       0.10      0.14      0.12        14\n",
            "           6       0.40      0.29      0.33        14\n",
            "           7       0.14      0.16      0.15        19\n",
            "           8       0.00      0.00      0.00        17\n",
            "           9       0.00      0.00      0.00        14\n",
            "\n",
            "    accuracy                           0.16       150\n",
            "   macro avg       0.14      0.15      0.11       150\n",
            "weighted avg       0.15      0.16      0.12       150\n",
            "\n"
          ]
        },
        {
          "output_type": "stream",
          "name": "stderr",
          "text": [
            "/usr/local/lib/python3.11/dist-packages/sklearn/metrics/_classification.py:1565: UndefinedMetricWarning: Precision is ill-defined and being set to 0.0 in labels with no predicted samples. Use `zero_division` parameter to control this behavior.\n",
            "  _warn_prf(average, modifier, f\"{metric.capitalize()} is\", len(result))\n",
            "/usr/local/lib/python3.11/dist-packages/sklearn/metrics/_classification.py:1565: UndefinedMetricWarning: Precision is ill-defined and being set to 0.0 in labels with no predicted samples. Use `zero_division` parameter to control this behavior.\n",
            "  _warn_prf(average, modifier, f\"{metric.capitalize()} is\", len(result))\n",
            "/usr/local/lib/python3.11/dist-packages/sklearn/metrics/_classification.py:1565: UndefinedMetricWarning: Precision is ill-defined and being set to 0.0 in labels with no predicted samples. Use `zero_division` parameter to control this behavior.\n",
            "  _warn_prf(average, modifier, f\"{metric.capitalize()} is\", len(result))\n"
          ]
        }
      ]
    },
    {
      "cell_type": "markdown",
      "source": [
        "The metrics are quite low, indicating not too good predictions, an accuracy of 0.16 indicating that only 16% of the test set was correctly classified."
      ],
      "metadata": {
        "id": "Bw9Zooevo2TC"
      }
    },
    {
      "cell_type": "code",
      "source": [
        "# Confusion matrix\n",
        "# For evaluate the performance of a classifier\n",
        "print('Confusion matrix:')\n",
        "cm = confusion_matrix(y_test, y_pred)\n",
        "print(cm)"
      ],
      "metadata": {
        "colab": {
          "base_uri": "https://localhost:8080/"
        },
        "id": "0UOwEjICejXy",
        "outputId": "e47470ef-751b-4de1-e444-cd04ba68ab3f"
      },
      "execution_count": null,
      "outputs": [
        {
          "output_type": "stream",
          "name": "stdout",
          "text": [
            "Confusion matrix:\n",
            "[[ 1  0  1  9  0  2  2  2  0  0]\n",
            " [ 0  0  0  6  4  0  0  0  0  0]\n",
            " [ 0  0  0  6  1  5  0  3  0  0]\n",
            " [ 0  0  1 11  4  2  0  1  0  0]\n",
            " [ 1  0  2  1  3  0  2  2  0  0]\n",
            " [ 0  0  1  5  3  2  1  2  0  0]\n",
            " [ 0  0  0  8  0  0  4  2  0  0]\n",
            " [ 0  0  0  9  2  5  0  3  0  0]\n",
            " [ 0  0  0  7  3  4  1  2  0  0]\n",
            " [ 0  0  1  3  5  0  0  5  0  0]]\n"
          ]
        }
      ]
    },
    {
      "cell_type": "code",
      "source": [
        "plt.imshow(cm, cmap=plt.cm.Blues);\n",
        "plt.xlabel('Prediction');\n",
        "plt.ylabel('Ground truth');"
      ],
      "metadata": {
        "colab": {
          "base_uri": "https://localhost:8080/",
          "height": 449
        },
        "id": "GkRqjfwOjCvH",
        "outputId": "8a610719-817e-40b1-eb1d-cc37b5916678"
      },
      "execution_count": null,
      "outputs": [
        {
          "output_type": "display_data",
          "data": {
            "text/plain": [
              "<Figure size 640x480 with 1 Axes>"
            ],
            "image/png": "[encoded data removed]"
          },
          "metadata": {}
        }
      ]
    },
    {
      "cell_type": "markdown",
      "source": [
        "### Duration"
      ],
      "metadata": {
        "id": "WiwwAHIv8OCu"
      }
    },
    {
      "cell_type": "code",
      "metadata": {
        "id": "0aos8EnQClz1"
      },
      "source": [
        "# The same procedure as before but classifying signals according to their duration and not the energy of the signal\n",
        "def duration(input):\n",
        "    return np.array(input.shape)"
      ],
      "execution_count": null,
      "outputs": []
    },
    {
      "cell_type": "code",
      "metadata": {
        "id": "FPhSE4WHf2fa"
      },
      "source": [
        "# Data loading\n",
        "X_train, X_test, y_train, y_test = load_data(feature_extractor=duration)"
      ],
      "execution_count": null,
      "outputs": []
    },
    {
      "cell_type": "code",
      "metadata": {
        "id": "kCSL7-HJgXHW"
      },
      "source": [
        "# SVM initialization and training\n",
        "clf = SVC(kernel='rbf', class_weight='balanced')\n",
        "clf = clf.fit(X_train, y_train)"
      ],
      "execution_count": null,
      "outputs": []
    },
    {
      "cell_type": "code",
      "metadata": {
        "id": "V_yweXjCgbo7",
        "colab": {
          "base_uri": "https://localhost:8080/"
        },
        "outputId": "ec3c183a-fbea-4f6f-95f7-1c65ed3ec6b7"
      },
      "source": [
        "# SVM test\n",
        "y_pred = clf.predict(X_test)\n",
        "print(classification_report(y_test, y_pred))"
      ],
      "execution_count": null,
      "outputs": [
        {
          "output_type": "stream",
          "name": "stdout",
          "text": [
            "              precision    recall  f1-score   support\n",
            "\n",
            "           0       0.32      0.41      0.36        17\n",
            "           1       0.22      0.40      0.29        10\n",
            "           2       0.00      0.00      0.00        15\n",
            "           3       0.38      0.26      0.31        19\n",
            "           4       0.38      0.27      0.32        11\n",
            "           5       0.00      0.00      0.00        14\n",
            "           6       0.67      0.14      0.24        14\n",
            "           7       0.33      0.05      0.09        19\n",
            "           8       0.26      0.71      0.38        17\n",
            "           9       0.06      0.14      0.08        14\n",
            "\n",
            "    accuracy                           0.24       150\n",
            "   macro avg       0.26      0.24      0.21       150\n",
            "weighted avg       0.27      0.24      0.21       150\n",
            "\n"
          ]
        },
        {
          "output_type": "stream",
          "name": "stderr",
          "text": [
            "/usr/local/lib/python3.11/dist-packages/sklearn/metrics/_classification.py:1565: UndefinedMetricWarning: Precision is ill-defined and being set to 0.0 in labels with no predicted samples. Use `zero_division` parameter to control this behavior.\n",
            "  _warn_prf(average, modifier, f\"{metric.capitalize()} is\", len(result))\n",
            "/usr/local/lib/python3.11/dist-packages/sklearn/metrics/_classification.py:1565: UndefinedMetricWarning: Precision is ill-defined and being set to 0.0 in labels with no predicted samples. Use `zero_division` parameter to control this behavior.\n",
            "  _warn_prf(average, modifier, f\"{metric.capitalize()} is\", len(result))\n",
            "/usr/local/lib/python3.11/dist-packages/sklearn/metrics/_classification.py:1565: UndefinedMetricWarning: Precision is ill-defined and being set to 0.0 in labels with no predicted samples. Use `zero_division` parameter to control this behavior.\n",
            "  _warn_prf(average, modifier, f\"{metric.capitalize()} is\", len(result))\n"
          ]
        }
      ]
    },
    {
      "cell_type": "markdown",
      "source": [
        "By classifying the signals by duration instead of energy the accuracy increased from 0.16 to 0.24, 24% of the test set was predicted correctly, it is easier for the model to classify signals by their accuracy rather than duration although the results are still low."
      ],
      "metadata": {
        "id": "HrTOA7D2pWa3"
      }
    },
    {
      "cell_type": "code",
      "source": [
        "# Confusion matrix\n",
        "print('Confusion matrix:')\n",
        "cm = confusion_matrix(y_test, y_pred)\n",
        "plt.imshow(cm, cmap=plt.cm.Blues);\n",
        "plt.xlabel('Prediction');\n",
        "plt.ylabel('Ground truth');"
      ],
      "metadata": {
        "colab": {
          "base_uri": "https://localhost:8080/",
          "height": 467
        },
        "id": "QctQyxAbjaAy",
        "outputId": "585972ba-1b0a-426d-aff2-4d1dff551706"
      },
      "execution_count": null,
      "outputs": [
        {
          "output_type": "stream",
          "name": "stdout",
          "text": [
            "Confusion matrix:\n"
          ]
        },
        {
          "output_type": "display_data",
          "data": {
            "text/plain": [
              "<Figure size 640x480 with 1 Axes>"
            ],
            "image/png": "[encoded data removed]"
          },
          "metadata": {}
        }
      ]
    },
    {
      "cell_type": "markdown",
      "source": [
        "## Features combo with normalization"
      ],
      "metadata": {
        "id": "VFZHnBKcCWD1"
      }
    },
    {
      "cell_type": "code",
      "source": [
        "# The combo() function allows you to combine several characteristics extracted from an audio signal\n",
        "# (energy and duration in this case),\n",
        "def combo(input):\n",
        "    return np.concatenate((energy(input),duration(input)))"
      ],
      "metadata": {
        "id": "RnX0qmawCnIi"
      },
      "execution_count": null,
      "outputs": []
    },
    {
      "cell_type": "code",
      "metadata": {
        "id": "rFB_hr9eCWEF",
        "colab": {
          "base_uri": "https://localhost:8080/"
        },
        "outputId": "d2c0e73d-cecf-424d-bc24-d0bebe39fb83"
      },
      "source": [
        "# Data loading\n",
        "X_train, X_test, y_train, y_test = load_data(feature_extractor=combo, normalize=True)\n",
        "print('Numer of training examples: {}'.format(len(X_train)))\n",
        "print('Dimensionality of the training features: {}'.format(X_train[0].shape))"
      ],
      "execution_count": null,
      "outputs": [
        {
          "output_type": "stream",
          "name": "stdout",
          "text": [
            "Numer of training examples: 1350\n",
            "Dimensionality of the training features: (2,)\n"
          ]
        }
      ]
    },
    {
      "cell_type": "code",
      "metadata": {
        "id": "39R_TMrwk1ED"
      },
      "source": [
        "# SVM initialization and training\n",
        "clf = SVC(kernel='rbf', class_weight='balanced')\n",
        "clf = clf.fit(X_train, y_train)"
      ],
      "execution_count": null,
      "outputs": []
    },
    {
      "cell_type": "code",
      "metadata": {
        "colab": {
          "base_uri": "https://localhost:8080/"
        },
        "outputId": "bc1d74ba-6405-4073-e716-ec59f07f5907",
        "id": "7h-vYMtNk1ED"
      },
      "source": [
        "# SVM test\n",
        "y_pred = clf.predict(X_test)\n",
        "print(classification_report(y_test, y_pred))"
      ],
      "execution_count": null,
      "outputs": [
        {
          "output_type": "stream",
          "name": "stdout",
          "text": [
            "              precision    recall  f1-score   support\n",
            "\n",
            "           0       0.67      0.24      0.35        17\n",
            "           1       0.11      0.10      0.11        10\n",
            "           2       0.00      0.00      0.00        15\n",
            "           3       0.39      0.63      0.48        19\n",
            "           4       0.46      0.55      0.50        11\n",
            "           5       0.17      0.14      0.15        14\n",
            "           6       0.50      0.14      0.22        14\n",
            "           7       0.38      0.16      0.22        19\n",
            "           8       0.09      0.12      0.10        17\n",
            "           9       0.26      0.71      0.38        14\n",
            "\n",
            "    accuracy                           0.28       150\n",
            "   macro avg       0.30      0.28      0.25       150\n",
            "weighted avg       0.31      0.28      0.25       150\n",
            "\n"
          ]
        }
      ]
    },
    {
      "cell_type": "markdown",
      "source": [
        "Further improvement in accuracy, classifying the signal according to the two characteristics is the best solution."
      ],
      "metadata": {
        "id": "j9ZmJueGpxjL"
      }
    },
    {
      "cell_type": "code",
      "source": [
        "# Confusion matrix\n",
        "print('Confusion matrix:')\n",
        "cm = confusion_matrix(y_test, y_pred)\n",
        "plt.imshow(cm, cmap=plt.cm.Blues);\n",
        "plt.xlabel('Prediction');\n",
        "plt.ylabel('Ground truth');"
      ],
      "metadata": {
        "colab": {
          "base_uri": "https://localhost:8080/",
          "height": 467
        },
        "outputId": "540f8821-fac5-44f4-de41-eef7678c28da",
        "id": "VxeuNZUAk1EE"
      },
      "execution_count": null,
      "outputs": [
        {
          "output_type": "stream",
          "name": "stdout",
          "text": [
            "Confusion matrix:\n"
          ]
        },
        {
          "output_type": "display_data",
          "data": {
            "text/plain": [
              "<Figure size 640x480 with 1 Axes>"
            ],
            "image/png": "[encoded data removed]"
          },
          "metadata": {}
        }
      ]
    },
    {
      "cell_type": "markdown",
      "metadata": {
        "id": "rtQTgtIkClz-"
      },
      "source": [
        "## Hyperparameter optimization"
      ]
    },
    {
      "cell_type": "code",
      "metadata": {
        "id": "AXzgM0_aClz_"
      },
      "source": [
        "# Data loading\n",
        "X_train, X_test, y_train, y_test = load_data(feature_extractor=combo, normalize=True)"
      ],
      "execution_count": null,
      "outputs": []
    },
    {
      "cell_type": "code",
      "metadata": {
        "id": "Ff_kdpq6Cl0G",
        "outputId": "53a256da-4c1a-4e51-ad8c-a19146e51884",
        "colab": {
          "base_uri": "https://localhost:8080/"
        }
      },
      "source": [
        "# Parameters to be tested in cross-validation\n",
        "param_grid = {'C': [100, 500, 1000],\n",
        "          'gamma': [0.005, 0.01, 0.1, 0.5, 1.0], }\n",
        "\n",
        "# Support Vector Machine initialization\n",
        "# GridSearchCV will explore all parameter combinations and select the best combination of beta and gamma.\n",
        "\n",
        "clf = GridSearchCV(SVC(kernel='rbf', class_weight='balanced'), param_grid, cv=2)\n",
        "\n",
        "# Training\n",
        "t0 = time()\n",
        "clf = clf.fit(X_train, y_train)\n",
        "print('Training completed in %0.3fs' % (time() - t0))"
      ],
      "execution_count": null,
      "outputs": [
        {
          "output_type": "stream",
          "name": "stdout",
          "text": [
            "Training completed in 5.209s\n"
          ]
        }
      ]
    },
    {
      "cell_type": "code",
      "metadata": {
        "id": "fSkNQK_sCl0I",
        "outputId": "5f4d24b5-79e3-4714-d636-f5f4d9d6571e",
        "colab": {
          "base_uri": "https://localhost:8080/"
        }
      },
      "source": [
        "# Result of the cross validation for parameters selection\n",
        "print('Best parameters combination:')\n",
        "# Best parameters combination\n",
        "print(' C: '+str(clf.best_estimator_.C))\n",
        "print(' gamma: '+str(clf.best_estimator_.gamma))"
      ],
      "execution_count": null,
      "outputs": [
        {
          "output_type": "stream",
          "name": "stdout",
          "text": [
            "Best parameters combination:\n",
            " C: 1000\n",
            " gamma: 0.1\n"
          ]
        }
      ]
    },
    {
      "cell_type": "code",
      "metadata": {
        "id": "lBX4_wzJCl0L",
        "outputId": "7238ead7-9c86-48d9-e44c-a4edd54d0ed7",
        "colab": {
          "base_uri": "https://localhost:8080/"
        }
      },
      "source": [
        "# SVM test\n",
        "# Classifier trained on the best combination\n",
        "y_pred = clf.predict(X_test)\n",
        "print(classification_report(y_test, y_pred))"
      ],
      "execution_count": null,
      "outputs": [
        {
          "output_type": "stream",
          "name": "stdout",
          "text": [
            "              precision    recall  f1-score   support\n",
            "\n",
            "           0       0.50      0.47      0.48        17\n",
            "           1       0.15      0.20      0.17        10\n",
            "           2       0.00      0.00      0.00        15\n",
            "           3       0.38      0.53      0.44        19\n",
            "           4       0.45      0.45      0.45        11\n",
            "           5       0.19      0.21      0.20        14\n",
            "           6       0.47      0.50      0.48        14\n",
            "           7       0.36      0.21      0.27        19\n",
            "           8       0.14      0.12      0.13        17\n",
            "           9       0.36      0.57      0.44        14\n",
            "\n",
            "    accuracy                           0.33       150\n",
            "   macro avg       0.30      0.33      0.31       150\n",
            "weighted avg       0.31      0.33      0.31       150\n",
            "\n"
          ]
        }
      ]
    },
    {
      "cell_type": "markdown",
      "source": [
        "Further increase in accuracy through hyperparameter optimization."
      ],
      "metadata": {
        "id": "zdgS52IVuGGo"
      }
    },
    {
      "cell_type": "code",
      "source": [
        "# Confusion matrix\n",
        "print('Confusion matrix:')\n",
        "cm = confusion_matrix(y_test, y_pred)\n",
        "plt.imshow(cm, cmap=plt.cm.Blues);\n",
        "plt.xlabel('Prediction');\n",
        "plt.ylabel('Ground truth');"
      ],
      "metadata": {
        "colab": {
          "base_uri": "https://localhost:8080/",
          "height": 467
        },
        "id": "zOez-bSIogtb",
        "outputId": "e30f0568-7b3d-4ea3-9275-4bf2c1ee7fd1"
      },
      "execution_count": null,
      "outputs": [
        {
          "output_type": "stream",
          "name": "stdout",
          "text": [
            "Confusion matrix:\n"
          ]
        },
        {
          "output_type": "display_data",
          "data": {
            "text/plain": [
              "<Figure size 640x480 with 1 Axes>"
            ],
            "image/png": "[encoded data removed]"
          },
          "metadata": {}
        }
      ]
    },
    {
      "cell_type": "markdown",
      "source": [
        "## Assignment: Zero-Crossing Rate"
      ],
      "metadata": {
        "id": "itD-33Wt8UhR"
      }
    },
    {
      "cell_type": "code",
      "source": [
        "# The Zero Crossing Rate (ZCR) is a measure that indicates how many times an audio signal crosses the zero line\n",
        "# (i.e. changes sign) during a period of time.\n",
        "def zcr(input):\n",
        "    input = np.array(input)\n",
        "    shifted_input = np.roll(input, 1) #shifted version of the input array where each value is moved one position to the right\n",
        "    original_sign = np.sign(input) # #sign of the original input\n",
        "    shifted_sign = np.sign(shifted_input) #sign of the shifted input\n",
        "    sing_change = original_sign != shifted_sign #compares the sign of each element with its shifted counterpart to detect sign changes\n",
        "    output = np.sum(sing_change, keepdims=True) #counts the total number of sign changes.\n",
        "    return output"
      ],
      "metadata": {
        "id": "mmIiaKSKqjuV"
      },
      "execution_count": null,
      "outputs": []
    },
    {
      "cell_type": "markdown",
      "metadata": {
        "id": "CNAbiL0QClz8"
      },
      "source": [
        "**Zero-Crossing Rate**:\n",
        "count how many times the signal goes from positive to negative, and from negative to positive.\n",
        "\n",
        "Possible approach:\n",
        "\n",
        "1. Shift the signal by one unit\n",
        "2. Compare point-by-point the sign (``np.sign()``) of the original signal and of the shifted signal\n",
        "3. Accumulate the instances of sign change"
      ]
    },
    {
      "cell_type": "code",
      "source": [
        "# function that concatenates together three characteristics extracted from an audio signal:\n",
        "# energy (energy), duration (duration), and Zero Crossing Rate (ZCR).\n",
        "def combo2(input):\n",
        "    return np.concatenate((energy(input),duration(input),zcr(input)))"
      ],
      "metadata": {
        "id": "pljvcD7FEFlx"
      },
      "execution_count": null,
      "outputs": []
    },
    {
      "cell_type": "code",
      "metadata": {
        "id": "qm_foVFUEFly"
      },
      "source": [
        "# Data loading\n",
        "X_train, X_test, y_train, y_test = load_data(feature_extractor=combo2, normalize=True)"
      ],
      "execution_count": null,
      "outputs": []
    },
    {
      "cell_type": "code",
      "metadata": {
        "outputId": "4f133e6e-9c1f-49e8-d3dd-0699b73149c9",
        "colab": {
          "base_uri": "https://localhost:8080/"
        },
        "id": "Z6z8ZK3GEFlz"
      },
      "source": [
        "# Parameters to be tested in cross-validation\n",
        "param_grid = {'C': [100, 500, 1000],\n",
        "          'gamma': [0.005, 0.01, 0.1, 0.5, 1.0], }\n",
        "\n",
        "# Support Vector Machine initialization\n",
        "clf = GridSearchCV(SVC(kernel='rbf', class_weight='balanced'), param_grid, cv=2)\n",
        "\n",
        "# Training\n",
        "t0 = time()\n",
        "clf = clf.fit(X_train, y_train)\n",
        "print('Training completed in %0.3fs' % (time() - t0))"
      ],
      "execution_count": null,
      "outputs": [
        {
          "output_type": "stream",
          "name": "stdout",
          "text": [
            "Training completed in 2.811s\n"
          ]
        }
      ]
    },
    {
      "cell_type": "code",
      "metadata": {
        "outputId": "7be8d190-6b41-4105-8c30-f154b001b2b7",
        "colab": {
          "base_uri": "https://localhost:8080/"
        },
        "id": "rZp7yvBDEFl0"
      },
      "source": [
        "# Result of the cross validation for parameters selection\n",
        "print('Best parameters combination:')\n",
        "print(' C: '+str(clf.best_estimator_.C))\n",
        "print(' gamma: '+str(clf.best_estimator_.gamma))"
      ],
      "execution_count": null,
      "outputs": [
        {
          "output_type": "stream",
          "name": "stdout",
          "text": [
            "Best parameters combination:\n",
            " C: 100\n",
            " gamma: 0.5\n"
          ]
        }
      ]
    },
    {
      "cell_type": "code",
      "metadata": {
        "outputId": "b5c83356-8551-41c4-feee-b8e9ec370d0d",
        "colab": {
          "base_uri": "https://localhost:8080/"
        },
        "id": "p74YGGy2EFl0"
      },
      "source": [
        "# SVM test\n",
        "y_pred = clf.predict(X_test)\n",
        "print(classification_report(y_test, y_pred))"
      ],
      "execution_count": null,
      "outputs": [
        {
          "output_type": "stream",
          "name": "stdout",
          "text": [
            "              precision    recall  f1-score   support\n",
            "\n",
            "           0       0.67      0.59      0.62        17\n",
            "           1       0.44      0.70      0.54        10\n",
            "           2       0.44      0.53      0.48        15\n",
            "           3       0.64      0.37      0.47        19\n",
            "           4       0.37      0.64      0.47        11\n",
            "           5       0.23      0.21      0.22        14\n",
            "           6       0.81      0.93      0.87        14\n",
            "           7       0.36      0.21      0.27        19\n",
            "           8       0.60      0.53      0.56        17\n",
            "           9       0.62      0.71      0.67        14\n",
            "\n",
            "    accuracy                           0.52       150\n",
            "   macro avg       0.52      0.54      0.52       150\n",
            "weighted avg       0.53      0.52      0.51       150\n",
            "\n"
          ]
        }
      ]
    },
    {
      "cell_type": "markdown",
      "source": [
        "The accuracy is 52%, the model correctly classifies about half of the examples. Accuracy was increased a lot by including the zero crossing rate as a classification factor.\n",
        "\n",
        "Class 6 is the best performing (all metrics are high), while 5 has the worst performance: the model struggles to predict this class correctly. High performance classes are class 0 and 9."
      ],
      "metadata": {
        "id": "_GpSdm21-_VI"
      }
    },
    {
      "cell_type": "code",
      "source": [
        "# Confusion matrix\n",
        "print('Confusion matrix:')\n",
        "cm = confusion_matrix(y_test, y_pred)\n",
        "plt.imshow(cm, cmap=plt.cm.Blues);\n",
        "plt.xlabel('Prediction');\n",
        "plt.ylabel('Ground truth');"
      ],
      "metadata": {
        "colab": {
          "base_uri": "https://localhost:8080/",
          "height": 467
        },
        "id": "VtRiyLbXpZ9l",
        "outputId": "0b40b95b-f9d2-409b-e2fa-53dace88c32d"
      },
      "execution_count": null,
      "outputs": [
        {
          "output_type": "stream",
          "name": "stdout",
          "text": [
            "Confusion matrix:\n"
          ]
        },
        {
          "output_type": "display_data",
          "data": {
            "text/plain": [
              "<Figure size 640x480 with 1 Axes>"
            ],
            "image/png": "[encoded data removed]"
          },
          "metadata": {}
        }
      ]
    },
    {
      "cell_type": "markdown",
      "source": [
        "The dark cells along the main diagonal indicate that most of the predictions are correct, the model manages to classify many examples correctly; the classes corresponding to ‘Ground truth = 6’ and ‘Prediction = 6’ show a strong intensity, suggesting a very good prediction for this class. Other classes, such as ‘Ground truth = 5’ and ‘Prediction = 5’, appear to have good accuracy, but may also show some errors.\n",
        "**The model seems to make good predictions, as the diagonal is well shown.**"
      ],
      "metadata": {
        "id": "nf2OPLGS-3tW"
      }
    }
  ]
}